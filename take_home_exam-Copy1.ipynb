{
 "cells": [
  {
   "cell_type": "code",
   "execution_count": 21,
   "metadata": {},
   "outputs": [],
   "source": [
    "import pandas as pd\n",
    "import json\n"
   ]
  },
  {
   "cell_type": "code",
   "execution_count": 22,
   "metadata": {},
   "outputs": [],
   "source": [
    "#1st function, reading json file and converting to one dataframe using pandas\n",
    "def json_to_df(json_file):\n",
    "    with open(json_file, \"r\") as f:\n",
    "        #reading json file\n",
    "        data = json.loads(f.read())\n",
    "        \n",
    "        #flattening json dictionaries into a dataframe\n",
    "        flatten_payload_1 = pd.json_normalize(data)\n",
    "        #print(flatten_payload_1)\n",
    "        \n",
    "        #looking for whether there is a list value in one of the df columns \n",
    "        for i in range(len(flatten_payload_1.iloc[0])):\n",
    "            \n",
    "            #if there is a list, we utilize json_normalize for that column \n",
    "            if isinstance(flatten_payload_1.iloc[0][i], list):\n",
    "                column_normalize=flatten_payload_1.columns[i]\n",
    "                #print(column_normalize)\n",
    "                \n",
    "                #splitting column name for record path parameters\n",
    "                column_normalize_list=column_normalize.split(\".\")\n",
    "                #print(column_normalize_list)\n",
    "                \n",
    "                #normalizing list of dictionaries data\n",
    "                column_normalize_data = pd.json_normalize(data, record_path=[[column_normalize_list[0],column_normalize_list[1]]])\n",
    "                #print(column_normalize_data)\n",
    "                \n",
    "                #dropping the column that was normalized, from root df\n",
    "                flatten_payload_1.drop(column_normalize, inplace=True, axis=1)\n",
    "                #print(flatten_payload_1)\n",
    "                \n",
    "                #concatenating dataframes\n",
    "                frames = [flatten_payload_1, column_normalize_data]\n",
    "                final_payload=pd.concat(frames).drop_duplicates().reset_index(drop=True)\n",
    "                \n",
    "                #dropping records with all NaN/Null values\n",
    "                final_payload.dropna(axis=0, how=\"all\", inplace=True)\n",
    "        \n",
    "    return final_payload \n",
    "                \n",
    "                "
   ]
  },
  {
   "cell_type": "code",
   "execution_count": 23,
   "metadata": {},
   "outputs": [],
   "source": [
    "final_payload = json_to_df(\"take_home_sample.json\")"
   ]
  },
  {
   "cell_type": "code",
   "execution_count": 27,
   "metadata": {},
   "outputs": [],
   "source": [
    "#2nd function to generate csv files for the different interfaces\n",
    "def df_to_csv(final_payload):\n",
    "    \n",
    "    #creating subscriber interface \n",
    "    subscriber_cols = [col for col in final_payload.columns if \"subscriber\" in col]\n",
    "    subscriber_csv = final_payload.to_csv('subscriber_interface_v2.csv', columns=subscriber_cols, index=False)\n",
    "    \n",
    "    #creating contactInformation interface\n",
    "    #this part is hard-coded, this will be changed once json format is modified\n",
    "    contactInfo_cols = ['contactType', 'preferenceRank']\n",
    "    contactInfo_csv = final_payload.to_csv('contactInfo_interface_v2.csv', columns=contactInfo_cols, index=False)\n",
    "    \n",
    "    #creating address interface\n",
    "    address_cols = [col for col in final_payload.columns if \"address\" in col]\n",
    "    address_csv = final_payload.to_csv('address_interface_v2.csv', columns=address_cols, index=False)\n",
    "    \n",
    "    #creating phoneNumber interface\n",
    "    phoneNumber_cols = [col for col in final_payload.columns if \"phoneNumber\" in col]\n",
    "    phoneNumber_csv = final_payload.to_csv('phoneNumber_interface_v2.csv', columns=phoneNumber_cols, index=False)\n",
    "    \n",
    "    return subscriber_csv, contactInfo_csv, address_csv, phoneNumber_csv\n",
    "    \n",
    "    "
   ]
  },
  {
   "cell_type": "code",
   "execution_count": 28,
   "metadata": {},
   "outputs": [],
   "source": [
    "csv_interfaces = df_to_csv(final_payload)"
   ]
  }
 ],
 "metadata": {
  "kernelspec": {
   "display_name": "Python 3 (ipykernel)",
   "language": "python",
   "name": "python3"
  },
  "language_info": {
   "codemirror_mode": {
    "name": "ipython",
    "version": 3
   },
   "file_extension": ".py",
   "mimetype": "text/x-python",
   "name": "python",
   "nbconvert_exporter": "python",
   "pygments_lexer": "ipython3",
   "version": "3.9.7"
  }
 },
 "nbformat": 4,
 "nbformat_minor": 4
}
